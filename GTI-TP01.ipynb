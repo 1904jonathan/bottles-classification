{
 "cells": [
  {
   "cell_type": "markdown",
   "metadata": {},
   "source": [
    "\n",
    "# Laboratoire 1 : Extraction de primitives\n",
    "#### Département du génie logiciel et des technologies de l’information\n",
    "\n",
    "|Étudiants||Philippe Ngo - NGOP180393056 Jonathan TABET - TABJ19049603 Nicolas Delcombel - DELN25129704 |  \n",
    "|--------------|-----------------------|\n",
    "| Cours | GTI770 - Systèmes intelligents et apprentissage machine |\n",
    "| Session | AUTOMNE |\n",
    "| Groupe | 02 |\n",
    "| Numéro du laboratoire | 1 |\n",
    "| Professeur | Prof. Jose Dolz |\n",
    "| Chargé de laboratoire | NOM |\n",
    "| Date|2019/09/30|"
   ]
  },
  {
   "cell_type": "markdown",
   "metadata": {},
   "source": [
    "## Plan\n",
    "* Première partie : Introduction, revue de littérature et choix des primitives.\n",
    "* Deuxième partie : Importation et traitements des images, extractions des primitives. Commentaires sur les primitives.\n",
    "* Troisième partie : Création d'un arbre de décision, discussions sur ses performances\n",
    "* Quatrième partie : Conclusion\n",
    "\n",
    "## Question 1 : Introduction et revue de Littérature\n",
    "Le projet _GalaxyZoo_ a pour but de classifier les galaxies présentes dans la base de données du même nom. Le projet est disponible en ligne et n'importe qui peut aider à classifier des galaxies. Cette base de données avec les galaxies identifiées permet d'entrainer des modèles d'apprentissage machine, afin que ceux-ci puissent accélérer l'identification des celles-ci.  Le TP traite des images de galaxies séparées en deux classes : classe « à smooth » et « spiral ». Il s’agit d’un apprentissage supervisé puisque nous avons à notre disposition les entrées (les images) et les sorties (leurs classes).  \n",
    "\n",
    "Les recherches utilisent aussi bien de l'apprentissage supervisé que non supervisé et on fait des essais avec du deep learning. Une difficulté est de traiter un grand nombre d'images ce qui peut prendre beaucoup de temps afin d'en extraire les primitives. Pour cela, plusieurs méthodes de vision par ordinateur sont utilisées, telles que  :  \n",
    "l'index de concentration de couleur [1], la valeur qui donne la composition des couleurs de l'image,  ainsi que la couleur du centre des galaxies.  \n",
    "D’autres méthodes utilisent une PCA (Principle component Analysis) qui permet de réduire l'image à un vecteur [3] afin de l'utiliser comme primitive.   \n",
    "La texture de l'image apporte aussi des informations et peut-être décrites avec son entropie [4], et peut-être extraite avec un modele binaire local [1] ou une transformée de Fourier discrète [4].   \n",
    "Enfin, la forme globale de l'image peut être extraite avec son moment [2] [1], ou avec des histogrammes de gradient orienté ou un histogramme de bord polaire [2].  \n",
    "\n",
    "Nous avons remarqué que souvent, les scientifiques mélangeaient des primitives qui apportent des informations sur la couleur, la forme, et la texture de l'image.\n",
    "\n",
    "\n",
    "## Question 2 : Primitives choisies\n",
    "La première différence d’un point de vue humain est la dimension des spirals qui sont en forme d’ellipse ovale comparé aux smooth qui sont rondes. Nous avons donc chercher une primitive dans ce sens. La bibliotech opencv offre des fonctions qui permettent de filtrer l’image et d’associé à l’objet detecté une forme d’ellipse. Le calcul de hauteur sur la largeur constitue une premiere primitive.  \n",
    "\n",
    "La couleur du centre des galaxies donnent des informations importantes sur le type de galaxie [5], selon Fang-Chieh Chou [2] la couleur du pixel central est représentative de la couleur du centre de la galaxie. Nous l'avons donc utilisé comme deuxième primimtive.  \n",
    "\n",
    "Enfin, selon Mohamed Abd El Aziz1 & Al. [4], l'enthropie est des facteur de la texture qui apport le plus d'information sur le type de galaxie. Nous avons donc utilisé l'enthropie comme dernière primitive \n",
    "\n",
    "\n",
    "[1] F. Ferrari, R. R. de Carvalho, and M. Trevisan : MORFOMETRYKA—A NEW WAY OF ESTABLISHING MORPHOLOGICAL CLASSIFICATION OF GALAXIES. The Astrophysical Journal, 814:55 (17 November 2015).  \n",
    "\n",
    "[2] Fang-Chieh Chou Galaxy Zoo Challenge: Classify Galaxy Morphologies from Images (March 19, 2014)  \n",
    "\n",
    "[3] Alexandre Gauthier, Archa Jain,y and Emil Noordehz : Galaxy Morphology Classification. (December 16, 2016)\n",
    "\n",
    "[4] Mohamed Abd El Aziz, I. M. Selim & Shengwu Xiong : Automatic Detection of Galaxy\n",
    "Type From Datasets of Galaxies\n",
    "Image Based on Image Retrieval\n",
    "Approach (30 June 2017).\n",
    "\n",
    "[5] Banerji, M., Lahav, O., Lintott, C. J.,\n",
    "Abdalla, F. B., Schawinski, K., Bamford,\n",
    "S. P., Andreescu, D., Murray, P., Raddick,\n",
    "M. J., Slosar, A., Szalay, A., Thomas, D.,\n",
    "and Vandenberg, J. Galaxy zoo: reproduc-\n",
    "ing galaxy morphologies via machine learning.\n",
    "Monthly Notices of the Royal Astronomical So-\n",
    "ciety 406, 1 (July 2010), 342•353.  \n",
    "\n"
   ]
  },
  {
   "cell_type": "code",
   "execution_count": 2,
   "metadata": {},
   "outputs": [],
   "source": [
    "import cv2\n",
    "import pylab\n",
    "import csv\n",
    "import os\n",
    "import numpy as np\n",
    "%matplotlib inline\n",
    "import matplotlib.pyplot as plt\n",
    "import scipy.ndimage as nd\n",
    "import pandas as pd\n",
    "from skimage import io\n",
    "from skimage.color import rgb2hsv"
   ]
  },
  {
   "cell_type": "code",
   "execution_count": 3,
   "metadata": {},
   "outputs": [],
   "source": [
    "def readImages(dir,file):\n",
    "    \"\"\"\n",
    "    Read images in the directory and id and labels of these images in file, \n",
    "    return a list of images and an array of class and id of these images. \n",
    "    Args:\n",
    "        dir (str): The directory where the images are stocked.\n",
    "        file (str): The file where the id and class are stocked.\n",
    "\n",
    "    Returns:\n",
    "        images[] (list) : a list of images\n",
    "        Y['id','class'] (np.array) : an array of the corresponding id and class  \n",
    "    \"\"\"\n",
    "\n",
    "    smooth_array = []\n",
    "    spiral_array = []\n",
    "    with open(file, 'r') as csvfile:\n",
    "        csv_reader = csv.DictReader(csvfile)\n",
    "        next(csv_reader) # skip header\n",
    "        data = [r for r in csv_reader] # for all rows, add in data\n",
    "        spiral_count = 0\n",
    "        smooth_count = 0\n",
    "        c = 0\n",
    "        for row in data:\n",
    "            path = dir + row['id'] + \".jpg\"\n",
    "            if(os.path.exists(path) and (spiral_count + smooth_count) < 100):\n",
    "                if row['class'] == 'spiral' and spiral_count < 50: #if the row's class is spiral, append to the spiral's list\n",
    "                    spiral_array.append(row)\n",
    "                    spiral_count += 1\n",
    "                elif row['class'] == 'smooth' and smooth_count < 50:\n",
    "                    smooth_array.append(row)   #else append to the smooth's list\n",
    "                    smooth_count += 1\n",
    "    # Generate X and Y matrices\n",
    "    Y = smooth_array + spiral_array\n",
    "    Y = np.array(Y)\n",
    "    images = []\n",
    "    for row in Y:\n",
    "        images.append(io.imread(dir + row[\"id\"] + '.jpg'))\n",
    "\n",
    "    X = np.array(images)\n",
    "    print(\"Images lues\")\n",
    "    return images, Y"
   ]
  },
  {
   "cell_type": "code",
   "execution_count": 4,
   "metadata": {},
   "outputs": [],
   "source": [
    "def imgToGray(image):\n",
    "    \"\"\"\n",
    "    Turn an image into shades of gray\n",
    "\n",
    "    Args: \n",
    "        image : an OpenCV standard image format.\n",
    "        \n",
    "\n",
    "    Returns:\n",
    "        img_gray_float : an OpenCV gray image.\n",
    "         \n",
    "    \"\"\"\n",
    "    img_gray = cv2.cvtColor(image.astype(\"uint8\"), cv2.COLOR_BGR2GRAY)\n",
    "    img_gray_float = img_gray.astype(np.float32)\n",
    "    return img_gray_float"
   ]
  },
  {
   "cell_type": "code",
   "execution_count": 5,
   "metadata": {},
   "outputs": [],
   "source": [
    "def rescale(image, min=0, max=255):\n",
    "        \"\"\" Rescale the colors of an image.\n",
    "        Utility method to rescale colors from an image. \n",
    "        Args: \n",
    "            image: an OpenCV standard image format.\n",
    "            min: The minimum color value [0, 255] range.\n",
    "            max: The maximum color value [0, 255] range.\n",
    "        \n",
    "        Returns:\n",
    "            The image with rescaled colors.\n",
    "        \"\"\"\n",
    "        image = image.astype('float')\n",
    "        image -= image.min()\n",
    "        image /= image.max()\n",
    "        image = image * (max - min) + min\n",
    "\n",
    "        return image"
   ]
  },
  {
   "cell_type": "code",
   "execution_count": 6,
   "metadata": {},
   "outputs": [],
   "source": [
    "def saturate(image, q0=0.01, q1=0.75):\n",
    "        \"\"\" Stretch contrasts of an image. \n",
    "        \n",
    "        Utility method to saturate the contrast of an image. \n",
    "\n",
    "        Args:\n",
    "            image: an OpenCV standard image format.\n",
    "            q0: minimum coefficient.\n",
    "            q1: maximum coefficient.\n",
    "\n",
    "        Returns:\n",
    "            The image with saturated contrasts. \n",
    "        \"\"\"\n",
    "        assert image is not None\n",
    "        \n",
    "        if q0 is None:\n",
    "            q0 = 0\n",
    "        if q1 is None:\n",
    "            q1 = 1\n",
    "        q = np.quantile(image[np.nonzero(image)].flatten(), [q0, q1])\n",
    "        image[image < q[0]] = q[0]\n",
    "        image[image > q[1]] = q[1]\n",
    "        \n",
    "        return image"
   ]
  },
  {
   "cell_type": "code",
   "execution_count": 7,
   "metadata": {},
   "outputs": [],
   "source": [
    "def remove_starlight(image_color, image_gray):\n",
    "        \"\"\" Removes the star light in images.\n",
    "\n",
    "        Calclates the median in color and gray scale image to clean the image's background.\n",
    "\n",
    "        Args:\n",
    "             image_color: an OpenCV standard color image format.\n",
    "             image_gray: an OpenCV standard gray scale image format.\n",
    "\n",
    "        Returns:\n",
    "            An image cleaned from star light.\n",
    "        \"\"\"\n",
    "        t = np.max(np.median(image_color[np.nonzero(image_gray)]))\n",
    "        image_color[image_color < t] = t\n",
    "\n",
    "        return rescale(image_color).astype(\"uint8\")\n"
   ]
  },
  {
   "cell_type": "code",
   "execution_count": 8,
   "metadata": {},
   "outputs": [],
   "source": [
    "def imageBlur(image):\n",
    "    \"\"\" Blur the image.\n",
    "\n",
    "        Uses Gaussian and Median blur.\n",
    "\n",
    "        Args:\n",
    "             image : an OpenCV standard image format.\n",
    "\n",
    "        Returns:\n",
    "            img_blurred : an image blurred.\n",
    "        \"\"\"\n",
    "    img_blurred = cv2.GaussianBlur(image, (3,3), 0)\n",
    "    img_blurred = cv2.medianBlur(img_blurred, 5)\n",
    "    return img_blurred"
   ]
  },
  {
   "cell_type": "code",
   "execution_count": 9,
   "metadata": {},
   "outputs": [],
   "source": [
    "def imageCrop(image,l):\n",
    "    \"\"\" Crop the image of l pixels.\n",
    "\n",
    "        Args:\n",
    "             image : an OpenCV standard image format.\n",
    "             l : an integer.\n",
    "\n",
    "        Returns:\n",
    "            An image croped.\n",
    "    \"\"\"\n",
    "    center_x = image.shape[1]//2       #Find center x position of the image\n",
    "    center_y = image.shape[0]//2       #Find center y position of the image\n",
    "    return image[center_y - l:center_y + l, center_x - l:center_x + l,:]"
   ]
  },
  {
   "cell_type": "code",
   "execution_count": 10,
   "metadata": {},
   "outputs": [],
   "source": [
    "def PipelineColor(image):\n",
    "    \"\"\"\n",
    "    From an image in format 100*100, return the hue of the center pixel\n",
    "\n",
    "        Args:\n",
    "             image : an OpenCV standard image format.\n",
    "\n",
    "        Returns:\n",
    "            nombre (float) : the value of the hue of the center pixel\n",
    "        \"\"\"\n",
    "    img_color_float = image.astype(np.float32)\n",
    "    img_blurred = imageBlur(img_color_float)\n",
    "    img_gray_float = imgToGray(image)\n",
    "    img_color = remove_starlight(image_color=img_blurred, image_gray=img_gray_float)\n",
    "    img_finale = imageCrop(img_color,100)\n",
    "    nombre = rgb2hsv(np.array([[img_finale[50][50]]]))[0][0][0]\n",
    "    return nombre"
   ]
  },
  {
   "cell_type": "code",
   "execution_count": 11,
   "metadata": {},
   "outputs": [],
   "source": [
    "def PipelineShape(image):\n",
    "    \"\"\" Return shape of an image.\n",
    "        \n",
    "        From an Image, find the dominant shape on it. Return the ratio width/length.\n",
    "        If there is no shape found return 0.\n",
    "        If length = 0 return 1.\n",
    "\n",
    "        Args:\n",
    "             image : an OpenCV standard image format..\n",
    "\n",
    "        Returns:\n",
    "            nombre (float): he ratio width/length of the biggest shape on the image\n",
    "    \"\"\"\n",
    "    img_color_float = image.astype(np.float32)\n",
    "    img_blurred = imageBlur(img_color_float)\n",
    "    img_gray_float = imgToGray(image)\n",
    "    img_color = remove_starlight(image_color=img_blurred, image_gray=img_gray_float)\n",
    "    saturated = saturate(image=img_color, q0=0.1, q1=0.85)\n",
    "    image_crop = imageCrop(saturated,50)\n",
    "    \n",
    "    img_gray = cv2.cvtColor(image_crop,cv2.COLOR_BGR2GRAY) #filtrage de l'image pour ameliorer l'ellipse crée\n",
    "    ret, thresh = cv2.threshold(img_gray, 11, 255,0)\n",
    "    contours,hierarchy = cv2.findContours(thresh,2,1)\n",
    "    if len(contours)>0:\n",
    "        cnt = contours[0]\n",
    "        if len(cnt)>5:\n",
    "            ellipse = cv2.fitEllipse(cnt) #creation d'une ellipse autour de l'objet detecté\n",
    "            img_ellipse = cv2.ellipse(img_gray,ellipse,(0,255,0),2)\n",
    "\n",
    "            leftmost = tuple(cnt[cnt[:,:,0].argmin()][0]) #point de l'ellipse le plus à gauche\n",
    "            rightmost = tuple(cnt[cnt[:,:,0].argmax()][0])#point de l'ellipse le plus à droite\n",
    "            topmost = tuple(cnt[cnt[:,:,1].argmin()][0])# point de l'ellipse le plus en haut\n",
    "            bottommost = tuple(cnt[cnt[:,:,1].argmax()][0])# point de l'ellipse le plus en bas\n",
    "\n",
    "            a=(((rightmost[0]-leftmost[0])**2)+((rightmost[1]-leftmost[1])**2))**(1/2) #calcul de la largeur de l'ellipse\n",
    "            b=(((topmost[0]-bottommost[0])**2)+((topmost[1]-bottommost[1])**2))**(1/2) #calcul de la longueur de l'ellipse\n",
    "            if b == 0 :\n",
    "                c = 1\n",
    "            else :\n",
    "                c = a/b #creation largeur sur longueur\n",
    "        else :\n",
    "            c = 0\n",
    "    else : \n",
    "        c = 0\n",
    "    return c"
   ]
  },
  {
   "cell_type": "code",
   "execution_count": 12,
   "metadata": {},
   "outputs": [],
   "source": [
    "def PipelineEntropy(image): \n",
    "    \"\"\" Extract entropy from an image\n",
    "\n",
    "        Args:\n",
    "             image : an OpenCV standard image format.\n",
    "\n",
    "        Returns:\n",
    "            the entropy of the image\n",
    "    \"\"\"\n",
    "    # https://docs.opencv.org/2.4/modules/imgproc/doc/histograms.html?highlight=calchist#calchist\n",
    "    hist = cv2.calcHist([image], [0], None, [256], [0, 256])\n",
    "    # Shannon entropy formula\n",
    "    hist = hist.ravel() / hist.sum()\n",
    "    logs = np.nan_to_num(np.log2(hist))\n",
    "    return -1 * (hist * logs).sum()"
   ]
  },
  {
   "cell_type": "code",
   "execution_count": 40,
   "metadata": {},
   "outputs": [
    {
     "name": "stdout",
     "output_type": "stream",
     "text": [
      "Images lues\n"
     ]
    }
   ],
   "source": [
    "X, Y = readImages('images_training\\\\','galaxy.csv')\n"
   ]
  },
  {
   "cell_type": "code",
   "execution_count": 41,
   "metadata": {},
   "outputs": [],
   "source": [
    "X_color = [PipelineColor(image) for image in X]"
   ]
  },
  {
   "cell_type": "code",
   "execution_count": 42,
   "metadata": {},
   "outputs": [],
   "source": [
    "X_shape = [PipelineShape(image) for image in X]"
   ]
  },
  {
   "cell_type": "code",
   "execution_count": 43,
   "metadata": {},
   "outputs": [
    {
     "name": "stderr",
     "output_type": "stream",
     "text": [
      "C:\\Users\\nicolas\\Anaconda3\\envs\\opencv-env\\lib\\site-packages\\ipykernel_launcher.py:14: RuntimeWarning: divide by zero encountered in log2\n",
      "  \n"
     ]
    }
   ],
   "source": [
    "X_entropy = [PipelineEntropy(image) for image in X]"
   ]
  },
  {
   "cell_type": "code",
   "execution_count": 44,
   "metadata": {},
   "outputs": [
    {
     "data": {
      "text/plain": [
       "Text(0.5, 0.98, 'Valeurs du pixel central')"
      ]
     },
     "execution_count": 44,
     "metadata": {},
     "output_type": "execute_result"
    },
    {
     "data": {
      "text/plain": [
       "<Figure size 432x288 with 0 Axes>"
      ]
     },
     "metadata": {},
     "output_type": "display_data"
    },
    {
     "data": {
      "image/png": "[encoded data removed]",
      "text/plain": [
       "<Figure size 432x288 with 1 Axes>"
      ]
     },
     "metadata": {
      "needs_background": "light"
     },
     "output_type": "display_data"
    },
    {
     "data": {
      "image/png": "[encoded data removed]",
      "text/plain": [
       "<Figure size 432x288 with 1 Axes>"
      ]
     },
     "metadata": {
      "needs_background": "light"
     },
     "output_type": "display_data"
    },
    {
     "data": {
      "image/png": "[encoded data removed]",
      "text/plain": [
       "<Figure size 432x288 with 1 Axes>"
      ]
     },
     "metadata": {
      "needs_background": "light"
     },
     "output_type": "display_data"
    }
   ],
   "source": [
    "df_enthropy = pd.DataFrame(list(zip(X_entropy[:50], X_entropy[50:])), \n",
    "               columns =['smooth', 'spiral']) \n",
    "df_shape = pd.DataFrame(list(zip(X_shape[:50], X_shape[50:])), \n",
    "               columns =['smooth', 'spiral']) \n",
    "df_color = pd.DataFrame(list(zip(X_color[:50], X_color[50:])), \n",
    "               columns =['smooth', 'spiral']) \n",
    "\n",
    "plt.figure();\n",
    "df_enthropy.plot.hist(alpha=0.5,bins=20)\n",
    "pylab.suptitle(\"Valeurs de l'entropie\")\n",
    "df_shape.plot.hist(alpha=0.5,bins=20)\n",
    "pylab.suptitle(\"Valeurs du rapport largeur/longueur\")\n",
    "df_color.plot.hist(alpha=0.5,bins=20)\n",
    "pylab.suptitle(\"Valeurs du pixel central\")"
   ]
  },
  {
   "cell_type": "code",
   "execution_count": 45,
   "metadata": {},
   "outputs": [
    {
     "data": {
      "image/png": "[encoded data removed]",
      "text/plain": [
       "<Figure size 1440x360 with 3 Axes>"
      ]
     },
     "metadata": {
      "needs_background": "light"
     },
     "output_type": "display_data"
    }
   ],
   "source": [
    "fig, ax = plt.subplots(1,3,figsize=(20, 5))\n",
    "ax[0].scatter(X_color[:50], X_entropy[:50], c = 'b',label='smooth', alpha = 0.3)\n",
    "ax[0].scatter(X_color[50:], X_entropy[50:], c = 'r',label='spiral', alpha = 0.3)\n",
    "ax[0].set_title(\"Comparaison : couleur du centre x entropie\")\n",
    "ax[0].set(xlabel = 'Couleur du centre', ylabel='Entropie')\n",
    "\n",
    "ax[1].scatter(X_shape[:50], X_entropy[:50], c = 'b',label='smooth', alpha = 0.3)\n",
    "ax[1].scatter(X_shape[50:], X_entropy[50:], c = 'r',label='spiral', alpha = 0.3)\n",
    "ax[1].set_title(\"Comparaison : rapport largeur/longueur x couleur du centre\")\n",
    "ax[1].set(xlabel = 'Forme', ylabel='Entropie')\n",
    "\n",
    "ax[2].scatter(X_shape[:50],X_color[:50], c = 'b',label='smooth', alpha = 0.3)\n",
    "ax[2].scatter(X_shape[50:],X_color[50:], c = 'r',label='spiral', alpha = 0.3)\n",
    "ax[2].set_title(\"Comparaison : couleur du centre x rapport largeur/longueur\")\n",
    "ax[2].set(xlabel = 'Couleur du centre', ylabel='Forme')\n",
    "\n",
    "ax[0].legend()\n",
    "ax[1].legend()\n",
    "ax[2].legend()\n",
    "\n",
    "plt.show()"
   ]
  },
  {
   "cell_type": "markdown",
   "metadata": {},
   "source": [
    "## Question 3 : efficacité des primitives \n",
    "Pour les primitives du rapport largeur/longueur et de l'entropie, leurs histogrammes indiquent que les catégories peuvent être séparées vers la valeur 1.2 pour la forme, et 4.7 pour l'entropie.  \n",
    "\n",
    "Lorsque l'on compare les différentes primités, l'on remarque que les galaxies spirales ont tendance à avoir un rapport largeur/longueur de zéro et une entropie basse, ce qui indique que ces primitives sont assez efficaces pour distinguer les deux catégories"
   ]
  },
  {
   "cell_type": "code",
   "execution_count": 46,
   "metadata": {},
   "outputs": [],
   "source": [
    "X_features = [0]*len(X)\n",
    "for k in range(len(X)):\n",
    "    X_features[k] = [X_entropy[k],X_color[k],X_shape[k]]\n",
    "Y_verif = ['smooth']*50+['spiral']*50 \n",
    "\n",
    "X_features_training =  X_features[0:35]+X_features[50:85]\n",
    "Y_training = ['smooth']*35+['spiral']*35\n",
    "\n",
    "X_features_test =  X_features[35:50]+X_features[85:]\n",
    "Y_test = ['smooth']*15+['spiral']*15\n"
   ]
  },
  {
   "cell_type": "code",
   "execution_count": 47,
   "metadata": {},
   "outputs": [
    {
     "name": "stdout",
     "output_type": "stream",
     "text": [
      " - Score et cross validation score : None depth - \n",
      "0.5333333333333333\n",
      "[0.6  0.55 0.65 0.5  0.6 ]\n",
      " - Score et cross validation score : 2 depth - \n",
      "0.7\n",
      "[0.75 0.75 0.75 0.45 0.75]\n",
      " - Score et cross validation score : 3 depth - \n",
      "0.7\n",
      "[0.7  0.7  0.75 0.5  0.7 ]\n",
      " - Score et cross validation score : 4 depth - \n",
      "0.6666666666666666\n",
      "[0.7  0.65 0.75 0.65 0.7 ]\n",
      " - Score et cross validation score : 5 depth - \n",
      "0.5666666666666667\n",
      "[0.6  0.6  0.55 0.55 0.65]\n",
      " - Score et cross validation score : 10 depth - \n",
      "0.5333333333333333\n",
      "[0.6  0.6  0.55 0.5  0.45]\n"
     ]
    }
   ],
   "source": [
    "from sklearn import tree\n",
    "from sklearn.model_selection import train_test_split, cross_val_score\n",
    "DEPTHS = [None, 2, 3, 4, 5, 10]\n",
    "Scores = []\n",
    "for depth in DEPTHS:\n",
    "    clf = tree.DecisionTreeClassifier(max_depth = depth)\n",
    "    clf = clf.fit(X_features_training, Y_training)\n",
    "    score = clf.score(X_features_test, Y_test)\n",
    "    Scores.append(score)\n",
    "    \n",
    "    print(\" - Score et cross validation score : \" + str(depth) + \" depth - \")\n",
    "    print(score)\n",
    "    print(cross_val_score(clf, X_features, Y_verif, cv=5))"
   ]
  },
  {
   "cell_type": "code",
   "execution_count": 48,
   "metadata": {},
   "outputs": [
    {
     "data": {
      "text/plain": [
       "Text(0, 0.5, 'Précision')"
      ]
     },
     "execution_count": 48,
     "metadata": {},
     "output_type": "execute_result"
    },
    {
     "data": {
      "image/png": "[encoded data removed]",
      "text/plain": [
       "<Figure size 432x288 with 1 Axes>"
      ]
     },
     "metadata": {
      "needs_background": "light"
     },
     "output_type": "display_data"
    }
   ],
   "source": [
    "plt.plot([0, 2, 3, 4, 5, 10],Scores,'x')\n",
    "plt.title(\"Précision en fonction de la profondeur de l'abre\")\n",
    "plt.xlabel(\"Profondeur\")\n",
    "plt.ylabel(\"Précision\")"
   ]
  },
  {
   "cell_type": "code",
   "execution_count": 49,
   "metadata": {},
   "outputs": [
    {
     "data": {
      "text/plain": [
       "[Text(148.8, 190.26, 'X[2] <= 1.281\\ngini = 0.5\\nsamples = 70\\nvalue = [35, 35]'),\n",
       " Text(74.4, 135.9, 'X[0] <= 3.814\\ngini = 0.411\\nsamples = 38\\nvalue = [11, 27]'),\n",
       " Text(37.2, 81.53999999999999, 'gini = 0.0\\nsamples = 1\\nvalue = [1, 0]'),\n",
       " Text(111.60000000000001, 81.53999999999999, 'X[0] <= 4.091\\ngini = 0.394\\nsamples = 37\\nvalue = [10, 27]'),\n",
       " Text(74.4, 27.180000000000007, 'gini = 0.0\\nsamples = 7\\nvalue = [0, 7]'),\n",
       " Text(148.8, 27.180000000000007, 'gini = 0.444\\nsamples = 30\\nvalue = [10, 20]'),\n",
       " Text(223.20000000000002, 135.9, 'X[0] <= 4.388\\ngini = 0.375\\nsamples = 32\\nvalue = [24, 8]'),\n",
       " Text(186.0, 81.53999999999999, 'gini = 0.0\\nsamples = 3\\nvalue = [0, 3]'),\n",
       " Text(260.40000000000003, 81.53999999999999, 'X[1] <= 0.24\\ngini = 0.285\\nsamples = 29\\nvalue = [24, 5]'),\n",
       " Text(223.20000000000002, 27.180000000000007, 'gini = 0.165\\nsamples = 22\\nvalue = [20, 2]'),\n",
       " Text(297.6, 27.180000000000007, 'gini = 0.49\\nsamples = 7\\nvalue = [4, 3]')]"
      ]
     },
     "execution_count": 49,
     "metadata": {},
     "output_type": "execute_result"
    },
    {
     "data": {
      "image/png": "[encoded data removed]",
      "text/plain": [
       "<Figure size 432x288 with 1 Axes>"
      ]
     },
     "metadata": {
      "needs_background": "light"
     },
     "output_type": "display_data"
    }
   ],
   "source": [
    "clf = tree.DecisionTreeClassifier(max_depth = 3)\n",
    "clf = clf.fit(X_features_training, Y_training)\n",
    "tree.plot_tree(clf)"
   ]
  },
  {
   "cell_type": "markdown",
   "metadata": {},
   "source": [
    "## Question 4 : Arbre de décision et précision\n",
    "En observant l'arbre, on remarque que la primitive la plus importante est le rapport large/longueur, puis l'entropie, et la moins importante est la couleur.  \n",
    "\n",
    "La variable max_depth indique la profondeur de l'arbre. La précision atteint un maximum pour une profondeur de deux et trois.(0.7). Un arbre pas assez profond n'est pas assez précis (under-fitting) et un arbre trop profond colle trop aux données originales (over-fitting).  \n",
    "## Question 5 : Autres primitives\n",
    "On peut constater que la couleur du pixel centrale n'est pas une primitive efficace. On pourrait choisir une autre primitive se basant sur la couleur comme par exemple l'index de concentration des couleurs.  \n",
    "\n",
    "De plus, la forme semble être une très bonne primitive, nous pourrions rajouter des primitives qui donnent plus d'informations sur la forme des galaxies comme par exemple un histogramme des formes polaires.  \n",
    "\n",
    "Enfin, une PCA permet de réduire l'image à un vecteur, ce qui peut être intéressant pour ajouter un grand nombre de primitives et voir leur influence.\n",
    "## Conclusion\n",
    "Pour conclure, nous avons utilisé le rapport largeur/longueur des galaxies, l'entropie de leurs images, ainsi que la couleur de leurs centres comme primitives. Nous avons ensuite utilisé un arbre de décision, pour prédire le type de galaxie. Nous avons obtenu la meilleure précision (0.7) pour un arbre de 2 étages.  \n",
    "\n",
    "Il est possible d'améliorer nos résultats en remplaçant la primitive basée sur la couleur de la galaxie. De plus, il est possible d'utiliser d'autres primitives, peut-être plus efficaces, mais aussi plus difficile à extraire.Une difficulté rencontrée est le traitement des images. Il est en effet difficile de savoir quoi faire et quoi éviter.  \n",
    "\n",
    "De plus, les procédés de traitement d'images ont énormément de paramètres et observer leur influence prend du temps.  La seconde difficulté est de trouver comment coder les features. Pour cela, différents outils nous ont été conseillers par nos professeurs comme opencv, scikit-learn. Ces librairies, bien que très complètes, demandent un temps d'adaptation avant de pouvoir être utilisées efficacement."
   ]
  }
 ],
 "metadata": {
  "kernelspec": {
   "display_name": "Python 3",
   "language": "python",
   "name": "python3"
  },
  "language_info": {
   "codemirror_mode": {
    "name": "ipython",
    "version": 3
   },
   "file_extension": ".py",
   "mimetype": "text/x-python",
   "name": "python",
   "nbconvert_exporter": "python",
   "pygments_lexer": "ipython3",
   "version": "3.7.5"
  }
 },
 "nbformat": 4,
 "nbformat_minor": 2
}
