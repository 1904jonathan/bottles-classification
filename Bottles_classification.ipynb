{
 "cells": [
  {
   "cell_type": "markdown",
   "metadata": {},
   "source": [
    "\n",
    "# Classification de bouteilles en verre et plastique\n",
    "\n",
    "\n",
    "Étudiant - Jonathan TABET\n",
    "Entreprise BEELDI\n",
    "Date : 2019/12/06"
   ]
  },
  {
   "cell_type": "markdown",
   "metadata": {},
   "source": [
    "## Plan\n",
    "* Première partie : Importation et traitements des images\n",
    "* Deuxième partie : Extractions des primitives\n",
    "* Troisième partie : Création d'un arbre de décision\n"
   ]
  },
  {
   "cell_type": "code",
   "execution_count": 28,
   "metadata": {},
   "outputs": [],
   "source": [
    "import cv2\n",
    "import pylab\n",
    "import csv\n",
    "import os\n",
    "import numpy as np\n",
    "%matplotlib inline\n",
    "import matplotlib.pyplot as plt\n",
    "import scipy.ndimage as nd\n",
    "import pandas as pd\n",
    "from skimage import io\n",
    "from skimage.color import rgb2hsv"
   ]
  },
  {
   "cell_type": "code",
   "execution_count": 29,
   "metadata": {},
   "outputs": [],
   "source": [
    "def readImages(dir,file):\n",
    "    \"\"\"\n",
    "    Read images in the directory and id and labels of these images in file, \n",
    "    return a list of images and an array of class and id of these images. \n",
    "    Args:\n",
    "        dir (str): The directory where the images are stocked.\n",
    "        file (str): The file where the id and class are stocked.\n",
    "\n",
    "    Returns:\n",
    "        images[] (list) : a list of images\n",
    "        Y['id','class'] (np.array) : an array of the corresponding id and class  \n",
    "    \"\"\"\n",
    "\n",
    "    plastic_array = []\n",
    "    glass_array = []\n",
    "    with open(file, 'r') as csvfile:\n",
    "        csv_reader = csv.DictReader(csvfile)\n",
    "        next(csv_reader) # skip header\n",
    "        data = [r for r in csv_reader] # for all rows, add in data\n",
    "        plastic_count = 0\n",
    "        glass_count = 0\n",
    "        c = 0\n",
    "        for row in data:\n",
    "            path = dir + row['id'] + \".jpg\"\n",
    "            if(os.path.exists(path) and (plastic_count + glass_count) < 100):\n",
    "                if row['class'] == 'plastic' and plastic_count < 50: \n",
    "                    plastic_array.append(row)\n",
    "                    plastic_count += 1\n",
    "                elif row['class'] == 'glass' and glass_count < 50:\n",
    "                    glass_array.append(row)   #else append to the smooth's list\n",
    "                    glass_count += 1\n",
    "    # Generate X and Y matrices\n",
    "    Y = plastic_array + glass_array\n",
    "    Y = np.array(Y)\n",
    "    images = []\n",
    "    for row in Y:\n",
    "        images.append(io.imread(dir + row[\"id\"] + '.jpg'))\n",
    "\n",
    "    X = np.array(images)\n",
    "    print(\"Images lues\")\n",
    "    return images, Y"
   ]
  },
  {
   "cell_type": "code",
   "execution_count": 30,
   "metadata": {},
   "outputs": [],
   "source": [
    "def imgToGray(image):\n",
    "    \"\"\"\n",
    "    Turn an image into shades of gray\n",
    "\n",
    "    Args: \n",
    "        image : an OpenCV standard image format.\n",
    "        \n",
    "\n",
    "    Returns:\n",
    "        img_gray_float : an OpenCV gray image.\n",
    "         \n",
    "    \"\"\"\n",
    "    img_gray = cv2.cvtColor(image.astype(\"uint8\"), cv2.COLOR_BGR2GRAY)\n",
    "    img_gray_float = img_gray.astype(np.float32)\n",
    "    return img_gray_float"
   ]
  },
  {
   "cell_type": "code",
   "execution_count": 31,
   "metadata": {},
   "outputs": [],
   "source": [
    "def rescale(image, min=0, max=255):\n",
    "        \"\"\" Rescale the colors of an image.\n",
    "        Utility method to rescale colors from an image. \n",
    "        Args: \n",
    "            image: an OpenCV standard image format.\n",
    "            min: The minimum color value [0, 255] range.\n",
    "            max: The maximum color value [0, 255] range.\n",
    "        \n",
    "        Returns:\n",
    "            The image with rescaled colors.\n",
    "        \"\"\"\n",
    "        image = image.astype('float')\n",
    "        image -= image.min()\n",
    "        image /= image.max()\n",
    "        image = image * (max - min) + min\n",
    "\n",
    "        return image"
   ]
  },
  {
   "cell_type": "code",
   "execution_count": 32,
   "metadata": {},
   "outputs": [],
   "source": [
    "def saturate(image, q0=0.01, q1=0.75):\n",
    "        \"\"\" Stretch contrasts of an image. \n",
    "        \n",
    "        Utility method to saturate the contrast of an image. \n",
    "\n",
    "        Args:\n",
    "            image: an OpenCV standard image format.\n",
    "            q0: minimum coefficient.\n",
    "            q1: maximum coefficient.\n",
    "\n",
    "        Returns:\n",
    "            The image with saturated contrasts. \n",
    "        \"\"\"\n",
    "        assert image is not None\n",
    "        \n",
    "        if q0 is None:\n",
    "            q0 = 0\n",
    "        if q1 is None:\n",
    "            q1 = 1\n",
    "        q = np.quantile(image[np.nonzero(image)].flatten(), [q0, q1])\n",
    "        image[image < q[0]] = q[0]\n",
    "        image[image > q[1]] = q[1]\n",
    "        \n",
    "        return image"
   ]
  },
  {
   "cell_type": "code",
   "execution_count": 33,
   "metadata": {},
   "outputs": [],
   "source": [
    "def remove_starlight(image_color, image_gray):\n",
    "        \"\"\" Removes the star light in images.\n",
    "\n",
    "        Calclates the median in color and gray scale image to clean the image's background.\n",
    "\n",
    "        Args:\n",
    "             image_color: an OpenCV standard color image format.\n",
    "             image_gray: an OpenCV standard gray scale image format.\n",
    "\n",
    "        Returns:\n",
    "            An image cleaned from star light.\n",
    "        \"\"\"\n",
    "        t = np.max(np.median(image_color[np.nonzero(image_gray)]))\n",
    "        image_color[image_color < t] = t\n",
    "\n",
    "        return rescale(image_color).astype(\"uint8\")\n"
   ]
  },
  {
   "cell_type": "code",
   "execution_count": 34,
   "metadata": {},
   "outputs": [],
   "source": [
    "def imageBlur(image):\n",
    "    \"\"\" Blur the image.\n",
    "\n",
    "        Uses Gaussian and Median blur.\n",
    "\n",
    "        Args:\n",
    "             image : an OpenCV standard image format.\n",
    "\n",
    "        Returns:\n",
    "            img_blurred : an image blurred.\n",
    "        \"\"\"\n",
    "    img_blurred = cv2.GaussianBlur(image, (3,3), 0)\n",
    "    img_blurred = cv2.medianBlur(img_blurred, 5)\n",
    "    return img_blurred"
   ]
  },
  {
   "cell_type": "code",
   "execution_count": 35,
   "metadata": {},
   "outputs": [],
   "source": [
    "def imageCrop(image,l):\n",
    "    \"\"\" Crop the image of l pixels.\n",
    "\n",
    "        Args:\n",
    "             image : an OpenCV standard image format.\n",
    "             l : an integer.\n",
    "\n",
    "        Returns:\n",
    "            An image croped.\n",
    "    \"\"\"\n",
    "    center_x = image.shape[1]//2       #Find center x position of the image\n",
    "    center_y = image.shape[0]//2       #Find center y position of the image\n",
    "    return image[center_y - l:center_y + l, center_x - l:center_x + l,:]"
   ]
  },
  {
   "cell_type": "code",
   "execution_count": 36,
   "metadata": {},
   "outputs": [],
   "source": [
    "def PipelineColor(image):\n",
    "    \"\"\"\n",
    "    From an image in format 100*100, return the hue of the center pixel\n",
    "\n",
    "        Args:\n",
    "             image : an OpenCV standard image format.\n",
    "\n",
    "        Returns:\n",
    "            nombre (float) : the value of the hue of the center pixel\n",
    "        \"\"\"\n",
    "    img_color_float = image.astype(np.float32)\n",
    "    img_blurred = imageBlur(img_color_float)\n",
    "    img_gray_float = imgToGray(image)\n",
    "    img_color = remove_starlight(image_color=img_blurred, image_gray=img_gray_float)\n",
    "    img_finale = imageCrop(img_color,100)\n",
    "    nombre = rgb2hsv(np.array([[img_finale[50][50]]]))[0][0][0]\n",
    "    return nombre"
   ]
  },
  {
   "cell_type": "code",
   "execution_count": 37,
   "metadata": {},
   "outputs": [],
   "source": [
    "def PipelineShape(image):\n",
    "    \"\"\" Return shape of an image.\n",
    "        \n",
    "        From an Image, find the dominant shape on it. Return the ratio width/length.\n",
    "        If there is no shape found return 0.\n",
    "        If length = 0 return 1.\n",
    "\n",
    "        Args:\n",
    "             image : an OpenCV standard image format..\n",
    "\n",
    "        Returns:\n",
    "            nombre (float): he ratio width/length of the biggest shape on the image\n",
    "    \"\"\"\n",
    "    img_color_float = image.astype(np.float32)\n",
    "    img_blurred = imageBlur(img_color_float)\n",
    "    img_gray_float = imgToGray(image)\n",
    "    img_color = remove_starlight(image_color=img_blurred, image_gray=img_gray_float)\n",
    "    saturated = saturate(image=img_color, q0=0.1, q1=0.85)\n",
    "    image_crop = imageCrop(saturated,50)\n",
    "    \n",
    "    img_gray = cv2.cvtColor(image_crop,cv2.COLOR_BGR2GRAY) #filtrage de l'image pour ameliorer l'ellipse crée\n",
    "    ret, thresh = cv2.threshold(img_gray, 11, 255,0)\n",
    "    contours,hierarchy = cv2.findContours(thresh,2,1)\n",
    "    if len(contours)>0:\n",
    "        cnt = contours[0]\n",
    "        if len(cnt)>5:\n",
    "            ellipse = cv2.fitEllipse(cnt) #creation d'une ellipse autour de l'objet detecté\n",
    "            img_ellipse = cv2.ellipse(img_gray,ellipse,(0,255,0),2)\n",
    "\n",
    "            leftmost = tuple(cnt[cnt[:,:,0].argmin()][0]) #point de l'ellipse le plus à gauche\n",
    "            rightmost = tuple(cnt[cnt[:,:,0].argmax()][0])#point de l'ellipse le plus à droite\n",
    "            topmost = tuple(cnt[cnt[:,:,1].argmin()][0])# point de l'ellipse le plus en haut\n",
    "            bottommost = tuple(cnt[cnt[:,:,1].argmax()][0])# point de l'ellipse le plus en bas\n",
    "\n",
    "            a=(((rightmost[0]-leftmost[0])**2)+((rightmost[1]-leftmost[1])**2))**(1/2) #calcul de la largeur de l'ellipse\n",
    "            b=(((topmost[0]-bottommost[0])**2)+((topmost[1]-bottommost[1])**2))**(1/2) #calcul de la longueur de l'ellipse\n",
    "            if b == 0 :\n",
    "                c = 1\n",
    "            else :\n",
    "                c = a/b #creation largeur sur longueur\n",
    "        else :\n",
    "            c = 0\n",
    "    else : \n",
    "        c = 0\n",
    "    return c"
   ]
  },
  {
   "cell_type": "code",
   "execution_count": 38,
   "metadata": {},
   "outputs": [],
   "source": [
    "def PipelineEntropy(image): \n",
    "    \"\"\" Extract entropy from an image\n",
    "\n",
    "        Args:\n",
    "             image : an OpenCV standard image format.\n",
    "\n",
    "        Returns:\n",
    "            the entropy of the image\n",
    "    \"\"\"\n",
    "    # https://docs.opencv.org/2.4/modules/imgproc/doc/histograms.html?highlight=calchist#calchist\n",
    "    hist = cv2.calcHist([image], [0], None, [256], [0, 256])\n",
    "    # Shannon entropy formula\n",
    "    hist = hist.ravel() / hist.sum()\n",
    "    logs = np.nan_to_num(np.log2(hist))\n",
    "    return -1 * (hist * logs).sum()"
   ]
  },
  {
   "cell_type": "code",
   "execution_count": 39,
   "metadata": {},
   "outputs": [
    {
     "name": "stdout",
     "output_type": "stream",
     "text": [
      "Images lues\n"
     ]
    }
   ],
   "source": [
    "X, Y = readImages('dataset-resized\\\\','Bottles.csv')\n"
   ]
  },
  {
   "cell_type": "code",
   "execution_count": 40,
   "metadata": {},
   "outputs": [],
   "source": [
    "X_color = [PipelineColor(image) for image in X]"
   ]
  },
  {
   "cell_type": "code",
   "execution_count": 41,
   "metadata": {},
   "outputs": [],
   "source": [
    "X_shape = [PipelineShape(image) for image in X]"
   ]
  },
  {
   "cell_type": "code",
   "execution_count": 42,
   "metadata": {},
   "outputs": [
    {
     "name": "stderr",
     "output_type": "stream",
     "text": [
      "C:\\Users\\Jonathan Tabet\\Anaconda3\\lib\\site-packages\\ipykernel_launcher.py:14: RuntimeWarning: divide by zero encountered in log2\n",
      "  \n"
     ]
    }
   ],
   "source": [
    "X_entropy = [PipelineEntropy(image) for image in X]"
   ]
  },
  {
   "cell_type": "code",
   "execution_count": 43,
   "metadata": {},
   "outputs": [
    {
     "data": {
      "text/plain": [
       "Text(0.5, 0.98, 'Valeurs du pixel central')"
      ]
     },
     "execution_count": 43,
     "metadata": {},
     "output_type": "execute_result"
    },
    {
     "data": {
      "text/plain": [
       "<Figure size 432x288 with 0 Axes>"
      ]
     },
     "metadata": {},
     "output_type": "display_data"
    },
    {
     "data": {
      "image/png": "[encoded data removed]",
      "text/plain": [
       "<Figure size 432x288 with 1 Axes>"
      ]
     },
     "metadata": {
      "needs_background": "light"
     },
     "output_type": "display_data"
    },
    {
     "data": {
      "image/png": "[encoded data removed]",
      "text/plain": [
       "<Figure size 432x288 with 1 Axes>"
      ]
     },
     "metadata": {
      "needs_background": "light"
     },
     "output_type": "display_data"
    },
    {
     "data": {
      "image/png": "[encoded data removed]",
      "text/plain": [
       "<Figure size 432x288 with 1 Axes>"
      ]
     },
     "metadata": {
      "needs_background": "light"
     },
     "output_type": "display_data"
    }
   ],
   "source": [
    "df_enthropy = pd.DataFrame(list(zip(X_entropy[:50], X_entropy[50:])), \n",
    "               columns =['plastic', 'glass']) \n",
    "df_shape = pd.DataFrame(list(zip(X_shape[:50], X_shape[50:])), \n",
    "               columns =['plastic', 'glass']) \n",
    "df_color = pd.DataFrame(list(zip(X_color[:50], X_color[50:])), \n",
    "               columns =['plastic', 'glass']) \n",
    "\n",
    "plt.figure();\n",
    "df_enthropy.plot.hist(alpha=0.5,bins=20)\n",
    "pylab.suptitle(\"Valeurs de l'entropie\")\n",
    "df_shape.plot.hist(alpha=0.5,bins=20)\n",
    "pylab.suptitle(\"Valeurs du rapport largeur/longueur\")\n",
    "df_color.plot.hist(alpha=0.5,bins=20)\n",
    "pylab.suptitle(\"Valeurs du pixel central\")"
   ]
  },
  {
   "cell_type": "code",
   "execution_count": 44,
   "metadata": {},
   "outputs": [
    {
     "data": {
      "image/png": "[encoded data removed]",
      "text/plain": [
       "<Figure size 1440x360 with 3 Axes>"
      ]
     },
     "metadata": {
      "needs_background": "light"
     },
     "output_type": "display_data"
    }
   ],
   "source": [
    "fig, ax = plt.subplots(1,3,figsize=(20, 5))\n",
    "ax[0].scatter(X_color[:50], X_entropy[:50], c = 'b',label='plastic', alpha = 0.3)\n",
    "ax[0].scatter(X_color[50:], X_entropy[50:], c = 'r',label='glass', alpha = 0.3)\n",
    "ax[0].set_title(\"Comparaison : couleur du centre x entropie\")\n",
    "ax[0].set(xlabel = 'Couleur du centre', ylabel='Entropie')\n",
    "\n",
    "ax[1].scatter(X_shape[:50], X_entropy[:50], c = 'b',label='plastic', alpha = 0.3)\n",
    "ax[1].scatter(X_shape[50:], X_entropy[50:], c = 'r',label='glass', alpha = 0.3)\n",
    "ax[1].set_title(\"Comparaison : rapport largeur/longueur x couleur du centre\")\n",
    "ax[1].set(xlabel = 'Forme', ylabel='Entropie')\n",
    "\n",
    "ax[2].scatter(X_shape[:50],X_color[:50], c = 'b',label='plastic', alpha = 0.3)\n",
    "ax[2].scatter(X_shape[50:],X_color[50:], c = 'r',label='glass', alpha = 0.3)\n",
    "ax[2].set_title(\"Comparaison : couleur du centre x rapport largeur/longueur\")\n",
    "ax[2].set(xlabel = 'Couleur du centre', ylabel='Forme')\n",
    "\n",
    "ax[0].legend()\n",
    "ax[1].legend()\n",
    "ax[2].legend()\n",
    "\n",
    "plt.show()"
   ]
  },
  {
   "cell_type": "code",
   "execution_count": 45,
   "metadata": {},
   "outputs": [],
   "source": [
    "X_features = [0]*len(X)\n",
    "for k in range(len(X)):\n",
    "    X_features[k] = [X_entropy[k],X_color[k],X_shape[k]]\n",
    "Y_verif = ['plastic']*50+['glass']*50 \n",
    "\n",
    "X_features_training =  X_features[0:35]+X_features[50:85]\n",
    "Y_training = ['plastic']*35+['glass']*35\n",
    "\n",
    "X_features_test =  X_features[35:50]+X_features[85:]\n",
    "Y_test = ['plastic']*15+['glass']*15\n"
   ]
  },
  {
   "cell_type": "code",
   "execution_count": 46,
   "metadata": {},
   "outputs": [
    {
     "name": "stdout",
     "output_type": "stream",
     "text": [
      " - Score et cross validation score : None depth - \n",
      "0.6\n",
      "[0.5  0.75 0.65 0.6  0.6 ]\n",
      " - Score et cross validation score : 2 depth - \n",
      "0.5\n",
      "[0.45 0.55 0.5  0.45 0.4 ]\n",
      " - Score et cross validation score : 3 depth - \n",
      "0.43333333333333335\n",
      "[0.6  0.75 0.5  0.45 0.4 ]\n",
      " - Score et cross validation score : 4 depth - \n",
      "0.6\n",
      "[0.45 0.8  0.6  0.4  0.75]\n",
      " - Score et cross validation score : 5 depth - \n",
      "0.6\n",
      "[0.75 0.85 0.6  0.5  0.4 ]\n",
      " - Score et cross validation score : 10 depth - \n",
      "0.6\n",
      "[0.65 0.75 0.75 0.6  0.6 ]\n"
     ]
    }
   ],
   "source": [
    "from sklearn import tree\n",
    "from sklearn.model_selection import train_test_split, cross_val_score\n",
    "DEPTHS = [None, 2, 3, 4, 5, 10]\n",
    "Scores = []\n",
    "for depth in DEPTHS:\n",
    "    clf = tree.DecisionTreeClassifier(max_depth = depth)\n",
    "    clf = clf.fit(X_features_training, Y_training)\n",
    "    score = clf.score(X_features_test, Y_test)\n",
    "    Scores.append(score)\n",
    "    \n",
    "    print(\" - Score et cross validation score : \" + str(depth) + \" depth - \")\n",
    "    print(score)\n",
    "    print(cross_val_score(clf, X_features, Y_verif, cv=5))"
   ]
  },
  {
   "cell_type": "code",
   "execution_count": 47,
   "metadata": {},
   "outputs": [
    {
     "data": {
      "text/plain": [
       "Text(0, 0.5, 'Précision')"
      ]
     },
     "execution_count": 47,
     "metadata": {},
     "output_type": "execute_result"
    },
    {
     "data": {
      "image/png": "[encoded data removed]",
      "text/plain": [
       "<Figure size 432x288 with 1 Axes>"
      ]
     },
     "metadata": {
      "needs_background": "light"
     },
     "output_type": "display_data"
    }
   ],
   "source": [
    "plt.plot([0, 2, 3, 4, 5, 10],Scores,'x')\n",
    "plt.title(\"Précision en fonction de la profondeur de l'abre\")\n",
    "plt.xlabel(\"Profondeur\")\n",
    "plt.ylabel(\"Précision\")"
   ]
  },
  {
   "cell_type": "code",
   "execution_count": 48,
   "metadata": {},
   "outputs": [
    {
     "data": {
      "text/plain": [
       "[Text(83.7, 195.696, 'X[0] <= 5.195\\nentropy = 0.5\\nsamples = 70\\nvalue = [35, 35]'),\n",
       " Text(41.85, 152.208, 'entropy = 0.0\\nsamples = 6\\nvalue = [0, 6]'),\n",
       " Text(125.55000000000001, 152.208, 'X[0] <= 5.96\\nentropy = 0.496\\nsamples = 64\\nvalue = [35, 29]'),\n",
       " Text(83.7, 108.72, 'entropy = 0.0\\nsamples = 9\\nvalue = [9, 0]'),\n",
       " Text(167.4, 108.72, 'X[1] <= 0.085\\nentropy = 0.499\\nsamples = 55\\nvalue = [26, 29]'),\n",
       " Text(83.7, 65.232, 'X[0] <= 7.03\\nentropy = 0.444\\nsamples = 30\\nvalue = [10, 20]'),\n",
       " Text(41.85, 21.744, 'entropy = 0.393\\nsamples = 26\\nvalue = [7, 19]'),\n",
       " Text(125.55000000000001, 21.744, 'entropy = 0.375\\nsamples = 4\\nvalue = [3, 1]'),\n",
       " Text(251.10000000000002, 65.232, 'X[2] <= 1.414\\nentropy = 0.461\\nsamples = 25\\nvalue = [16, 9]'),\n",
       " Text(209.25, 21.744, 'entropy = 0.0\\nsamples = 3\\nvalue = [0, 3]'),\n",
       " Text(292.95, 21.744, 'entropy = 0.397\\nsamples = 22\\nvalue = [16, 6]')]"
      ]
     },
     "execution_count": 48,
     "metadata": {},
     "output_type": "execute_result"
    },
    {
     "data": {
      "image/png": "[encoded data removed]",
      "text/plain": [
       "<Figure size 432x288 with 1 Axes>"
      ]
     },
     "metadata": {
      "needs_background": "light"
     },
     "output_type": "display_data"
    }
   ],
   "source": [
    "clf = tree.DecisionTreeClassifier(max_depth = 4)\n",
    "clf = clf.fit(X_features_training, Y_training)\n",
    "tree.plot_tree(clf)"
   ]
  }
 ],
 "metadata": {
  "kernelspec": {
   "display_name": "Python 3",
   "language": "python",
   "name": "python3"
  },
  "language_info": {
   "codemirror_mode": {
    "name": "ipython",
    "version": 3
   },
   "file_extension": ".py",
   "mimetype": "text/x-python",
   "name": "python",
   "nbconvert_exporter": "python",
   "pygments_lexer": "ipython3",
   "version": "3.7.3"
  }
 },
 "nbformat": 4,
 "nbformat_minor": 2
}
